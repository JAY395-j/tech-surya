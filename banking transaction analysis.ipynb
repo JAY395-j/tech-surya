{
 "cells": [
  {
   "cell_type": "code",
   "execution_count": null,
   "id": "7f799a7f-62a1-4a09-bd3b-16aa572339d5",
   "metadata": {},
   "outputs": [],
   "source": []
  },
  {
   "cell_type": "code",
   "execution_count": null,
   "id": "6a859878-81f4-416f-a7f0-8a645f815649",
   "metadata": {},
   "outputs": [],
   "source": []
  },
  {
   "cell_type": "markdown",
   "id": "3730d844-9986-4188-9091-b888e41b9853",
   "metadata": {},
   "source": [
    "## steps to do eda project \n",
    "1. first read the dataset carefully and understand dataset\n",
    "2. import all four libraries\n",
    "3. we have to load the dataset\n",
    "4. we have to look the column information using function \"df.info()\"\n",
    "5. we to carefully the highest , lowest .and average values by using formula \"df.describe()\"\n",
    "6. after that we have to check of our data set using \"df.head()\" and last values using \"df.tail()\""
   ]
  },
  {
   "cell_type": "code",
   "execution_count": 1,
   "id": "5933bd82-10df-495d-978d-486b9db27a95",
   "metadata": {},
   "outputs": [],
   "source": [
    "import pandas as pd # for data manipulation\n",
    "import numpy as py #for numerical analysis\n",
    "import matplotlib.pyplot as plt # for visualizations\n",
    "import seaborn as sns # for statistical plots"
   ]
  },
  {
   "cell_type": "code",
   "execution_count": 2,
   "id": "5193a7e2-2a95-47a5-a895-d9aca5bdc2f4",
   "metadata": {},
   "outputs": [],
   "source": [
    "import warnings\n",
    "warnings.filterwarnings('ignore')"
   ]
  },
  {
   "cell_type": "markdown",
   "id": "ad522908-d476-4484-b746-66475d95d624",
   "metadata": {},
   "source": [
    "## 1.Banking transaction analysis (eda)\n",
    "#### A complete exploratory data analysis (eda) project on a large scale banking dataset . the project will include \n",
    "1. a realistic dataset\n",
    "2. step by step python code with explanations\n",
    "3.  visualizatons and insights"
   ]
  },
  {
   "cell_type": "markdown",
   "id": "b75e14cf-a3b1-442f-816e-8563368ca38b",
   "metadata": {},
   "source": [
    "#### Objective \n",
    "1.Analyze banking ,transactions from large dataset (1m+ records)\n",
    "2.Identify trends, customer behavior and fraud patterns\n",
    "3.perform exploratory data analysis(EDA) and visualize insights.\n",
    "\n",
    "#### Dataset Used \n",
    "Massive bank dataset (1M+ rows)\n",
    "\n",
    "\n",
    "#### Features include: \n",
    "1. transactionID: unique identifier for each transaction.\n",
    "2. CustomerID: Unique identifier for each customer\n",
    "3. transactionDate: timestamp for transaction.\n",
    "4. transactionType: (Credit,Debit,transfer,etc)\n",
    "5. Amount: Transaction Value.\n",
    "6. Location: Where the transaction happend.\n",
    "7. isFraud: 1 if fraud,0 if genuine."
   ]
  },
  {
   "cell_type": "code",
   "execution_count": 3,
   "id": "4d35ee4a-1324-44fb-83c1-a8a2786330fc",
   "metadata": {},
   "outputs": [],
   "source": [
    "df=pd.read_csv(\"banking_transactions_1M.csv\")"
   ]
  },
  {
   "cell_type": "code",
   "execution_count": 4,
   "id": "27394ef4-d8f9-40f6-9b70-f53691f4a4fd",
   "metadata": {},
   "outputs": [
    {
     "data": {
      "text/html": [
       "<div>\n",
       "<style scoped>\n",
       "    .dataframe tbody tr th:only-of-type {\n",
       "        vertical-align: middle;\n",
       "    }\n",
       "\n",
       "    .dataframe tbody tr th {\n",
       "        vertical-align: top;\n",
       "    }\n",
       "\n",
       "    .dataframe thead th {\n",
       "        text-align: right;\n",
       "    }\n",
       "</style>\n",
       "<table border=\"1\" class=\"dataframe\">\n",
       "  <thead>\n",
       "    <tr style=\"text-align: right;\">\n",
       "      <th></th>\n",
       "      <th>TransactionID</th>\n",
       "      <th>CustomerID</th>\n",
       "      <th>TransactionDate</th>\n",
       "      <th>TransactionType</th>\n",
       "      <th>Amount</th>\n",
       "      <th>Location</th>\n",
       "      <th>isFraud</th>\n",
       "    </tr>\n",
       "  </thead>\n",
       "  <tbody>\n",
       "    <tr>\n",
       "      <th>0</th>\n",
       "      <td>1</td>\n",
       "      <td>4174</td>\n",
       "      <td>2023-07-29 08:48:28</td>\n",
       "      <td>Withdrawal</td>\n",
       "      <td>19614.53</td>\n",
       "      <td>Boston</td>\n",
       "      <td>0</td>\n",
       "    </tr>\n",
       "    <tr>\n",
       "      <th>1</th>\n",
       "      <td>2</td>\n",
       "      <td>4507</td>\n",
       "      <td>2023-11-07 20:56:56</td>\n",
       "      <td>Deposit</td>\n",
       "      <td>8161.18</td>\n",
       "      <td>Los Angeles</td>\n",
       "      <td>0</td>\n",
       "    </tr>\n",
       "    <tr>\n",
       "      <th>2</th>\n",
       "      <td>3</td>\n",
       "      <td>1860</td>\n",
       "      <td>2023-12-20 17:38:37</td>\n",
       "      <td>Debit</td>\n",
       "      <td>18338.93</td>\n",
       "      <td>Miami</td>\n",
       "      <td>0</td>\n",
       "    </tr>\n",
       "    <tr>\n",
       "      <th>3</th>\n",
       "      <td>4</td>\n",
       "      <td>2294</td>\n",
       "      <td>2023-06-11 09:46:58</td>\n",
       "      <td>Credit</td>\n",
       "      <td>40.20</td>\n",
       "      <td>Dallas</td>\n",
       "      <td>0</td>\n",
       "    </tr>\n",
       "    <tr>\n",
       "      <th>4</th>\n",
       "      <td>5</td>\n",
       "      <td>2130</td>\n",
       "      <td>2023-03-02 16:50:38</td>\n",
       "      <td>Withdrawal</td>\n",
       "      <td>19239.09</td>\n",
       "      <td>Los Angeles</td>\n",
       "      <td>0</td>\n",
       "    </tr>\n",
       "  </tbody>\n",
       "</table>\n",
       "</div>"
      ],
      "text/plain": [
       "   TransactionID  CustomerID      TransactionDate TransactionType    Amount  \\\n",
       "0              1        4174  2023-07-29 08:48:28      Withdrawal  19614.53   \n",
       "1              2        4507  2023-11-07 20:56:56         Deposit   8161.18   \n",
       "2              3        1860  2023-12-20 17:38:37           Debit  18338.93   \n",
       "3              4        2294  2023-06-11 09:46:58          Credit     40.20   \n",
       "4              5        2130  2023-03-02 16:50:38      Withdrawal  19239.09   \n",
       "\n",
       "      Location  isFraud  \n",
       "0       Boston        0  \n",
       "1  Los Angeles        0  \n",
       "2        Miami        0  \n",
       "3       Dallas        0  \n",
       "4  Los Angeles        0  "
      ]
     },
     "execution_count": 4,
     "metadata": {},
     "output_type": "execute_result"
    }
   ],
   "source": [
    "df.head()"
   ]
  },
  {
   "cell_type": "markdown",
   "id": "741c306d-d21e-40ea-b6f7-016f9d90c16d",
   "metadata": {},
   "source": [
    "## 3.initial data exploration\n",
    "Q1. HOW MANY TRANSACTIONS ,COLUMNS ARE IN DATASET ?"
   ]
  },
  {
   "cell_type": "code",
   "execution_count": 5,
   "id": "139e0a9a-63c8-4bc8-b905-a3e064e9ab3d",
   "metadata": {},
   "outputs": [
    {
     "data": {
      "text/plain": [
       "(1000000, 7)"
      ]
     },
     "execution_count": 5,
     "metadata": {},
     "output_type": "execute_result"
    }
   ],
   "source": [
    "df.shape"
   ]
  },
  {
   "cell_type": "markdown",
   "id": "79ac0b18-53aa-471c-a631-daa593f8e126",
   "metadata": {},
   "source": [
    "Q2. What are the columns names and data types?"
   ]
  },
  {
   "cell_type": "code",
   "execution_count": 6,
   "id": "d613d0ff-eba4-457c-9623-ef5bfc48d219",
   "metadata": {},
   "outputs": [
    {
     "name": "stdout",
     "output_type": "stream",
     "text": [
      "<class 'pandas.core.frame.DataFrame'>\n",
      "RangeIndex: 1000000 entries, 0 to 999999\n",
      "Data columns (total 7 columns):\n",
      " #   Column           Non-Null Count    Dtype  \n",
      "---  ------           --------------    -----  \n",
      " 0   TransactionID    1000000 non-null  int64  \n",
      " 1   CustomerID       1000000 non-null  int64  \n",
      " 2   TransactionDate  1000000 non-null  object \n",
      " 3   TransactionType  1000000 non-null  object \n",
      " 4   Amount           1000000 non-null  float64\n",
      " 5   Location         1000000 non-null  object \n",
      " 6   isFraud          1000000 non-null  int64  \n",
      "dtypes: float64(1), int64(3), object(3)\n",
      "memory usage: 53.4+ MB\n"
     ]
    }
   ],
   "source": [
    "df.info()"
   ]
  },
  {
   "cell_type": "markdown",
   "id": "a872bff5-c662-4af9-b20e-1321f08d6d10",
   "metadata": {},
   "source": [
    "### 4. data cleaning"
   ]
  },
  {
   "cell_type": "markdown",
   "id": "03048d5e-e6ef-4bc1-ab45-8bfef5061e86",
   "metadata": {},
   "source": [
    "Q3. are there any missing values "
   ]
  },
  {
   "cell_type": "code",
   "execution_count": 7,
   "id": "40db9c4b-63a2-48fc-8c73-1cb7942b1021",
   "metadata": {},
   "outputs": [
    {
     "data": {
      "text/plain": [
       "TransactionID      0\n",
       "CustomerID         0\n",
       "TransactionDate    0\n",
       "TransactionType    0\n",
       "Amount             0\n",
       "Location           0\n",
       "isFraud            0\n",
       "dtype: int64"
      ]
     },
     "execution_count": 7,
     "metadata": {},
     "output_type": "execute_result"
    }
   ],
   "source": [
    "df.isnull().sum()"
   ]
  },
  {
   "cell_type": "markdown",
   "id": "f98cd294-ab45-478c-a892-48f4417597cf",
   "metadata": {},
   "source": [
    "Q4.Convert transactionDate to datetime format?"
   ]
  },
  {
   "cell_type": "markdown",
   "id": "5f08aab5-a8c8-446b-8f97-5d3ae7cb9e71",
   "metadata": {},
   "source": [
    "## 5. Transaction type analysis\n",
    "#### Q5. what are transaction type analysis"
   ]
  },
  {
   "cell_type": "code",
   "execution_count": 8,
   "id": "1f465ab1-4d76-42e0-be41-1db07065c161",
   "metadata": {},
   "outputs": [],
   "source": [
    "df[\"TransactionDate\"] = pd.to_datetime(df[\"TransactionDate\"])"
   ]
  },
  {
   "cell_type": "code",
   "execution_count": 9,
   "id": "d5febc93-b3ee-4c24-a9a4-3315c24941a4",
   "metadata": {},
   "outputs": [
    {
     "name": "stdout",
     "output_type": "stream",
     "text": [
      "<class 'pandas.core.frame.DataFrame'>\n",
      "RangeIndex: 1000000 entries, 0 to 999999\n",
      "Data columns (total 7 columns):\n",
      " #   Column           Non-Null Count    Dtype         \n",
      "---  ------           --------------    -----         \n",
      " 0   TransactionID    1000000 non-null  int64         \n",
      " 1   CustomerID       1000000 non-null  int64         \n",
      " 2   TransactionDate  1000000 non-null  datetime64[ns]\n",
      " 3   TransactionType  1000000 non-null  object        \n",
      " 4   Amount           1000000 non-null  float64       \n",
      " 5   Location         1000000 non-null  object        \n",
      " 6   isFraud          1000000 non-null  int64         \n",
      "dtypes: datetime64[ns](1), float64(1), int64(3), object(2)\n",
      "memory usage: 53.4+ MB\n"
     ]
    }
   ],
   "source": [
    "df.info()"
   ]
  },
  {
   "cell_type": "code",
   "execution_count": 10,
   "id": "e4d3d450-7adc-4add-b877-af1a582dc5bb",
   "metadata": {},
   "outputs": [
    {
     "data": {
      "text/plain": [
       "TransactionType\n",
       "Debit         200447\n",
       "Transfer      200209\n",
       "Withdrawal    199898\n",
       "Credit        199799\n",
       "Deposit       199647\n",
       "Name: count, dtype: int64"
      ]
     },
     "execution_count": 10,
     "metadata": {},
     "output_type": "execute_result"
    }
   ],
   "source": [
    "df[\"TransactionType\"].value_counts()"
   ]
  },
  {
   "cell_type": "code",
   "execution_count": 11,
   "id": "3d36ff52-f75d-4010-afba-b48b986e16f5",
   "metadata": {},
   "outputs": [
    {
     "data": {
      "text/plain": [
       "Amount\n",
       "19405.63    7\n",
       "7823.82     7\n",
       "15013.71    7\n",
       "11094.10    6\n",
       "7909.45     6\n",
       "           ..\n",
       "15227.31    1\n",
       "17157.39    1\n",
       "2244.56     1\n",
       "13622.28    1\n",
       "16198.05    1\n",
       "Name: count, Length: 786884, dtype: int64"
      ]
     },
     "execution_count": 11,
     "metadata": {},
     "output_type": "execute_result"
    }
   ],
   "source": [
    "df[\"Amount\"].value_counts()"
   ]
  },
  {
   "cell_type": "code",
   "execution_count": 12,
   "id": "323c44d4-47ab-4808-a2fb-b6864d9390ed",
   "metadata": {},
   "outputs": [
    {
     "data": {
      "text/plain": [
       "Location\n",
       "Los Angeles      100748\n",
       "Miami            100334\n",
       "San Francisco    100272\n",
       "Chicago          100020\n",
       "New York          99983\n",
       "Dallas            99942\n",
       "Boston            99876\n",
       "Las Vegas         99776\n",
       "Houston           99550\n",
       "Seattle           99499\n",
       "Name: count, dtype: int64"
      ]
     },
     "execution_count": 12,
     "metadata": {},
     "output_type": "execute_result"
    }
   ],
   "source": [
    "df[\"Location\"].value_counts()"
   ]
  },
  {
   "cell_type": "code",
   "execution_count": 13,
   "id": "4819d2ac-81c2-46d2-9d51-49eb78fe5e4d",
   "metadata": {},
   "outputs": [
    {
     "data": {
      "text/plain": [
       "TransactionID\n",
       "1          1\n",
       "666658     1\n",
       "666660     1\n",
       "666661     1\n",
       "666662     1\n",
       "          ..\n",
       "333338     1\n",
       "333339     1\n",
       "333340     1\n",
       "333341     1\n",
       "1000000    1\n",
       "Name: count, Length: 1000000, dtype: int64"
      ]
     },
     "execution_count": 13,
     "metadata": {},
     "output_type": "execute_result"
    }
   ],
   "source": [
    "df[\"TransactionID\"].value_counts()"
   ]
  },
  {
   "cell_type": "code",
   "execution_count": 14,
   "id": "22567b1b-6e69-4667-b804-5aa8a2d27da0",
   "metadata": {},
   "outputs": [
    {
     "data": {
      "text/plain": [
       "TransactionDate\n",
       "2024-11-02 10:40:09    3\n",
       "2024-04-19 03:20:25    3\n",
       "2024-11-14 23:40:12    3\n",
       "2023-03-26 16:54:18    3\n",
       "2023-10-02 15:00:24    3\n",
       "                      ..\n",
       "2023-02-11 20:16:25    1\n",
       "2023-09-01 16:57:46    1\n",
       "2024-05-03 07:04:41    1\n",
       "2024-12-13 23:23:43    1\n",
       "2023-07-08 10:03:09    1\n",
       "Name: count, Length: 992063, dtype: int64"
      ]
     },
     "execution_count": 14,
     "metadata": {},
     "output_type": "execute_result"
    }
   ],
   "source": [
    "df[\"TransactionDate\"].value_counts()"
   ]
  },
  {
   "cell_type": "markdown",
   "id": "29c7992c-e863-4cbb-b467-171a72d475ad",
   "metadata": {},
   "source": [
    "### Q7. most common transaction type"
   ]
  },
  {
   "cell_type": "code",
   "execution_count": 15,
   "id": "f90479d7-14bf-4a83-841d-23a9c5a1d37e",
   "metadata": {},
   "outputs": [
    {
     "data": {
      "image/png": "[encoded data removed]",
      "text/plain": [
       "<Figure size 640x480 with 1 Axes>"
      ]
     },
     "metadata": {},
     "output_type": "display_data"
    }
   ],
   "source": [
    "sns.countplot(data=df,x=\"TransactionType\")\n",
    "plt.title(\"transaction type distribution\")\n",
    "plt.show()"
   ]
  },
  {
   "cell_type": "code",
   "execution_count": 16,
   "id": "61d42f6a-810e-44bf-bd34-3ecff4e9b091",
   "metadata": {},
   "outputs": [
    {
     "data": {
      "image/png": "[encoded data removed]",
      "text/plain": [
       "<Figure size 640x480 with 1 Axes>"
      ]
     },
     "metadata": {},
     "output_type": "display_data"
    }
   ],
   "source": [
    "sns.countplot(data=df, x=\"isFraud\")\n",
    "plt.title(\"Fraud Distribution\")\n",
    "plt.show()"
   ]
  },
  {
   "cell_type": "markdown",
   "id": "21cf7db5-5178-4abe-83e0-9536d5a5aa9a",
   "metadata": {},
   "source": [
    "### Q7. what is average transaction amount"
   ]
  },
  {
   "cell_type": "code",
   "execution_count": 17,
   "id": "63ffc105-6759-4fec-b7bf-3edc9d6ccf2f",
   "metadata": {},
   "outputs": [
    {
     "name": "stdout",
     "output_type": "stream",
     "text": [
      "<class 'pandas.core.frame.DataFrame'>\n",
      "RangeIndex: 1000000 entries, 0 to 999999\n",
      "Data columns (total 7 columns):\n",
      " #   Column           Non-Null Count    Dtype         \n",
      "---  ------           --------------    -----         \n",
      " 0   TransactionID    1000000 non-null  int64         \n",
      " 1   CustomerID       1000000 non-null  int64         \n",
      " 2   TransactionDate  1000000 non-null  datetime64[ns]\n",
      " 3   TransactionType  1000000 non-null  object        \n",
      " 4   Amount           1000000 non-null  float64       \n",
      " 5   Location         1000000 non-null  object        \n",
      " 6   isFraud          1000000 non-null  int64         \n",
      "dtypes: datetime64[ns](1), float64(1), int64(3), object(2)\n",
      "memory usage: 53.4+ MB\n"
     ]
    },
    {
     "data": {
      "text/plain": [
       "9997.653584529995"
      ]
     },
     "execution_count": 17,
     "metadata": {},
     "output_type": "execute_result"
    }
   ],
   "source": [
    "df.info()\n",
    "df[\"Amount\"].mean() # mean to access average"
   ]
  },
  {
   "cell_type": "markdown",
   "id": "4d59b914-f159-45a8-bcbc-75b94abdc7e2",
   "metadata": {},
   "source": [
    "#### the average transaction amount is 9997.653584529995"
   ]
  },
  {
   "cell_type": "code",
   "execution_count": 18,
   "id": "8245fa7e-ce93-41a0-90a2-5f8abd69c014",
   "metadata": {},
   "outputs": [
    {
     "name": "stdout",
     "output_type": "stream",
     "text": [
      "<class 'pandas.core.frame.DataFrame'>\n",
      "RangeIndex: 1000000 entries, 0 to 999999\n",
      "Data columns (total 7 columns):\n",
      " #   Column           Non-Null Count    Dtype         \n",
      "---  ------           --------------    -----         \n",
      " 0   TransactionID    1000000 non-null  int64         \n",
      " 1   CustomerID       1000000 non-null  int64         \n",
      " 2   TransactionDate  1000000 non-null  datetime64[ns]\n",
      " 3   TransactionType  1000000 non-null  object        \n",
      " 4   Amount           1000000 non-null  float64       \n",
      " 5   Location         1000000 non-null  object        \n",
      " 6   isFraud          1000000 non-null  int64         \n",
      "dtypes: datetime64[ns](1), float64(1), int64(3), object(2)\n",
      "memory usage: 53.4+ MB\n"
     ]
    },
    {
     "data": {
      "text/plain": [
       "9992.689999999999"
      ]
     },
     "execution_count": 18,
     "metadata": {},
     "output_type": "execute_result"
    }
   ],
   "source": [
    "df.info()\n",
    "df[\"Amount\"].median() "
   ]
  },
  {
   "cell_type": "markdown",
   "id": "1c2ee5ef-e3d7-45fa-926f-c800c5b7a30c",
   "metadata": {},
   "source": [
    "## the median is 9992.689999999999"
   ]
  },
  {
   "cell_type": "code",
   "execution_count": 19,
   "id": "76eb0e3d-3b63-451e-9e60-037153593742",
   "metadata": {},
   "outputs": [
    {
     "name": "stdout",
     "output_type": "stream",
     "text": [
      "<class 'pandas.core.frame.DataFrame'>\n",
      "RangeIndex: 1000000 entries, 0 to 999999\n",
      "Data columns (total 7 columns):\n",
      " #   Column           Non-Null Count    Dtype         \n",
      "---  ------           --------------    -----         \n",
      " 0   TransactionID    1000000 non-null  int64         \n",
      " 1   CustomerID       1000000 non-null  int64         \n",
      " 2   TransactionDate  1000000 non-null  datetime64[ns]\n",
      " 3   TransactionType  1000000 non-null  object        \n",
      " 4   Amount           1000000 non-null  float64       \n",
      " 5   Location         1000000 non-null  object        \n",
      " 6   isFraud          1000000 non-null  int64         \n",
      "dtypes: datetime64[ns](1), float64(1), int64(3), object(2)\n",
      "memory usage: 53.4+ MB\n"
     ]
    },
    {
     "data": {
      "text/plain": [
       "0     7823.82\n",
       "1    15013.71\n",
       "2    19405.63\n",
       "Name: Amount, dtype: float64"
      ]
     },
     "execution_count": 19,
     "metadata": {},
     "output_type": "execute_result"
    }
   ],
   "source": [
    "df.info()\n",
    "df[\"Amount\"].mode() "
   ]
  },
  {
   "cell_type": "markdown",
   "id": "5a978d5c-4359-4647-81f6-5256434a0e43",
   "metadata": {},
   "source": [
    "## the mode is  7823.82"
   ]
  },
  {
   "cell_type": "markdown",
   "id": "e01e0e00-2448-42ba-a750-36f61e4651bf",
   "metadata": {},
   "source": [
    "### Q8. what is the distribution of transaction amount"
   ]
  },
  {
   "cell_type": "code",
   "execution_count": 20,
   "id": "75bacc4e-c5c2-455b-bbc4-61d808e08a46",
   "metadata": {},
   "outputs": [
    {
     "data": {
      "image/png": "[encoded data removed]",
      "text/plain": [
       "<Figure size 2000x1000 with 1 Axes>"
      ]
     },
     "metadata": {},
     "output_type": "display_data"
    }
   ],
   "source": [
    "plt.figure(figsize=(20,10))\n",
    "#plt.figure(figsize=(10, 5)): This line creates a new figure (a blank canvas) for plotting.\n",
    "#The figsize argument specifies the size of the figure in inches. \n",
    "#Here, the width is 10 inches and the height is 5 inches.\n",
    "#This ensures the plot will be large and easy to view.\n",
    "sns.histplot(df[\"Amount\"], bins=50 )\n",
    "\"\"\"sns.histplot(...): This is a function from Seaborn (a visualization library built on top of Matplotlib) to create a histogram plot. The histogram shows the distribution of data, i.e., how data is spread out.\n",
    "df[\"Amount\"]: This refers to a specific column in your DataFrame df, specifically the \"Amount\" column. It represents the transaction amounts in the dataset.\n",
    "bins=50: This defines how many bins (intervals) to use for the histogram. In this case, the data will be divided into 50 intervals to show the distribution.\n",
    "kde=True: This adds a Kernel Density Estimation (KDE) curve to the histogram. The KDE curve is a smooth line that estimates the probability density function of the data. It helps visualize the underlying distribution of the data in addition to the histogram.\"\"\"\n",
    "plt.title(\"Transaction Amount Distribution\")\n",
    "plt.xlabel(\"Amount\")\n",
    "plt.ylabel(\"Frenquency\")\n",
    "plt.show()\n"
   ]
  },
  {
   "cell_type": "code",
   "execution_count": 21,
   "id": "f48bccda-0174-4e64-a048-7cff90c0139b",
   "metadata": {},
   "outputs": [
    {
     "data": {
      "text/html": [
       "<div>\n",
       "<style scoped>\n",
       "    .dataframe tbody tr th:only-of-type {\n",
       "        vertical-align: middle;\n",
       "    }\n",
       "\n",
       "    .dataframe tbody tr th {\n",
       "        vertical-align: top;\n",
       "    }\n",
       "\n",
       "    .dataframe thead th {\n",
       "        text-align: right;\n",
       "    }\n",
       "</style>\n",
       "<table border=\"1\" class=\"dataframe\">\n",
       "  <thead>\n",
       "    <tr style=\"text-align: right;\">\n",
       "      <th></th>\n",
       "      <th>TransactionID</th>\n",
       "      <th>CustomerID</th>\n",
       "      <th>TransactionDate</th>\n",
       "      <th>Amount</th>\n",
       "      <th>isFraud</th>\n",
       "    </tr>\n",
       "  </thead>\n",
       "  <tbody>\n",
       "    <tr>\n",
       "      <th>count</th>\n",
       "      <td>1000000.000000</td>\n",
       "      <td>1000000.000000</td>\n",
       "      <td>1000000</td>\n",
       "      <td>1000000.000000</td>\n",
       "      <td>1000000.000000</td>\n",
       "    </tr>\n",
       "    <tr>\n",
       "      <th>mean</th>\n",
       "      <td>500000.500000</td>\n",
       "      <td>2999.146814</td>\n",
       "      <td>2024-02-05 03:33:35.710377216</td>\n",
       "      <td>9997.653585</td>\n",
       "      <td>0.005065</td>\n",
       "    </tr>\n",
       "    <tr>\n",
       "      <th>min</th>\n",
       "      <td>1.000000</td>\n",
       "      <td>1000.000000</td>\n",
       "      <td>2023-02-04 19:34:00</td>\n",
       "      <td>10.010000</td>\n",
       "      <td>0.000000</td>\n",
       "    </tr>\n",
       "    <tr>\n",
       "      <th>25%</th>\n",
       "      <td>250000.750000</td>\n",
       "      <td>2000.000000</td>\n",
       "      <td>2023-08-06 11:00:22.500000</td>\n",
       "      <td>5009.797500</td>\n",
       "      <td>0.000000</td>\n",
       "    </tr>\n",
       "    <tr>\n",
       "      <th>50%</th>\n",
       "      <td>500000.500000</td>\n",
       "      <td>2998.000000</td>\n",
       "      <td>2024-02-04 23:41:56</td>\n",
       "      <td>9992.690000</td>\n",
       "      <td>0.000000</td>\n",
       "    </tr>\n",
       "    <tr>\n",
       "      <th>75%</th>\n",
       "      <td>750000.250000</td>\n",
       "      <td>3999.000000</td>\n",
       "      <td>2024-08-05 21:13:23.249999872</td>\n",
       "      <td>14991.605000</td>\n",
       "      <td>0.000000</td>\n",
       "    </tr>\n",
       "    <tr>\n",
       "      <th>max</th>\n",
       "      <td>1000000.000000</td>\n",
       "      <td>4999.000000</td>\n",
       "      <td>2025-02-04 07:02:15</td>\n",
       "      <td>19999.990000</td>\n",
       "      <td>1.000000</td>\n",
       "    </tr>\n",
       "    <tr>\n",
       "      <th>std</th>\n",
       "      <td>288675.278933</td>\n",
       "      <td>1154.309681</td>\n",
       "      <td>NaN</td>\n",
       "      <td>5768.751350</td>\n",
       "      <td>0.070988</td>\n",
       "    </tr>\n",
       "  </tbody>\n",
       "</table>\n",
       "</div>"
      ],
      "text/plain": [
       "        TransactionID      CustomerID                TransactionDate  \\\n",
       "count  1000000.000000  1000000.000000                        1000000   \n",
       "mean    500000.500000     2999.146814  2024-02-05 03:33:35.710377216   \n",
       "min          1.000000     1000.000000            2023-02-04 19:34:00   \n",
       "25%     250000.750000     2000.000000     2023-08-06 11:00:22.500000   \n",
       "50%     500000.500000     2998.000000            2024-02-04 23:41:56   \n",
       "75%     750000.250000     3999.000000  2024-08-05 21:13:23.249999872   \n",
       "max    1000000.000000     4999.000000            2025-02-04 07:02:15   \n",
       "std     288675.278933     1154.309681                            NaN   \n",
       "\n",
       "               Amount         isFraud  \n",
       "count  1000000.000000  1000000.000000  \n",
       "mean      9997.653585        0.005065  \n",
       "min         10.010000        0.000000  \n",
       "25%       5009.797500        0.000000  \n",
       "50%       9992.690000        0.000000  \n",
       "75%      14991.605000        0.000000  \n",
       "max      19999.990000        1.000000  \n",
       "std       5768.751350        0.070988  "
      ]
     },
     "execution_count": 21,
     "metadata": {},
     "output_type": "execute_result"
    }
   ],
   "source": [
    "df.describe()"
   ]
  },
  {
   "cell_type": "markdown",
   "id": "93a99b8d-78f7-4b51-868f-1c5c1d9bc29a",
   "metadata": {},
   "source": [
    "### 7 customer behaviour analysis\n",
    "Q9. how many unique customer are there "
   ]
  },
  {
   "cell_type": "code",
   "execution_count": 22,
   "id": "cd1d1d39-2717-4f23-a35a-49695daa59db",
   "metadata": {},
   "outputs": [
    {
     "data": {
      "text/plain": [
       "4000"
      ]
     },
     "execution_count": 22,
     "metadata": {},
     "output_type": "execute_result"
    }
   ],
   "source": [
    "df[\"CustomerID\"].nunique() # no.of unique values"
   ]
  },
  {
   "cell_type": "code",
   "execution_count": 23,
   "id": "9392acc7-307e-433f-9eaf-89d71979ef2c",
   "metadata": {},
   "outputs": [
    {
     "data": {
      "text/plain": [
       "10"
      ]
     },
     "execution_count": 23,
     "metadata": {},
     "output_type": "execute_result"
    }
   ],
   "source": [
    "df[\"Location\"].nunique()"
   ]
  },
  {
   "cell_type": "markdown",
   "id": "714a7ce4-2c33-40ee-ba9b-69d2f8e663c5",
   "metadata": {},
   "source": [
    "Q10. which customer have the highest total transactions"
   ]
  },
  {
   "cell_type": "code",
   "execution_count": 24,
   "id": "f16c7fe4-7045-4341-9ed5-57e3e1627051",
   "metadata": {},
   "outputs": [
    {
     "data": {
      "text/plain": [
       "'df.groupby(\"CustomerID\"):\\n\\ngroupby(\"CustomerID\"): This groups the data in the DataFrame df by the \"CustomerID\" column. This means the rows in the DataFrame are grouped based on unique customer IDs. After grouping, you can perform operations on each group (in this case, customer) individually.\\n[\"Amount\"].sum():\\n\\n[\"Amount\"]: After grouping by \"CustomerID\", we are focusing on the \"Amount\" column, which presumably contains the transaction amounts.\\n.sum(): This aggregates (sums up) the \"Amount\" values for each customer. It calculates the total spending per customer by summing up all the transaction amounts for each customer ID.\\n.sort_values(ascending=False):\\n\\n.sort_values(ascending=False): This sorts the resulting sums of transaction amounts in descending order, so the customers who have spent the most are listed first. By default, ascending=False sorts in descending order (highest to lowest).\\n.head(10):\\n\\n.head(10): After sorting, this function selects the first 10 rows of the result. These will be the top 10 customers who have spent the most, according to the \"Amount\"\\xa0column.'"
      ]
     },
     "execution_count": 24,
     "metadata": {},
     "output_type": "execute_result"
    }
   ],
   "source": [
    "df.groupby(\"CustomerID\")[\"Amount\"].sum().sort_values(ascending = False).head(12)\n",
    "\"\"\"df.groupby(\"CustomerID\"):\n",
    "\n",
    "groupby(\"CustomerID\"): This groups the data in the DataFrame df by the \"CustomerID\" column. This means the rows in the DataFrame are grouped based on unique customer IDs. After grouping, you can perform operations on each group (in this case, customer) individually.\n",
    "[\"Amount\"].sum():\n",
    "\n",
    "[\"Amount\"]: After grouping by \"CustomerID\", we are focusing on the \"Amount\" column, which presumably contains the transaction amounts.\n",
    ".sum(): This aggregates (sums up) the \"Amount\" values for each customer. It calculates the total spending per customer by summing up all the transaction amounts for each customer ID.\n",
    ".sort_values(ascending=False):\n",
    "\n",
    ".sort_values(ascending=False): This sorts the resulting sums of transaction amounts in descending order, so the customers who have spent the most are listed first. By default, ascending=False sorts in descending order (highest to lowest).\n",
    ".head(10):\n",
    "\n",
    ".head(10): After sorting, this function selects the first 10 rows of the result. These will be the top 10 customers who have spent the most, according to the \"Amount\" column.\"\"\""
   ]
  },
  {
   "cell_type": "code",
   "execution_count": 25,
   "id": "7e7aff0e-3c93-4ffa-a310-b974fd8f2301",
   "metadata": {},
   "outputs": [
    {
     "data": {
      "text/plain": [
       "CustomerID\n",
       "3196    3018276.61\n",
       "1107    3021540.78\n",
       "3050    3023650.82\n",
       "4968    3025126.69\n",
       "1213    3028768.06\n",
       "1620    3032669.06\n",
       "2255    3034886.44\n",
       "3529    3064485.59\n",
       "1161    3134676.23\n",
       "1386    3161132.70\n",
       "3617    3173066.73\n",
       "3225    3173403.37\n",
       "Name: Amount, dtype: float64"
      ]
     },
     "execution_count": 25,
     "metadata": {},
     "output_type": "execute_result"
    }
   ],
   "source": [
    "df.groupby(\"CustomerID\")[\"Amount\"].sum().sort_values(ascending = True).tail(12)"
   ]
  },
  {
   "cell_type": "markdown",
   "id": "fa6194e1-12fe-415b-bb54-2fa7418f3805",
   "metadata": {},
   "source": [
    "## task"
   ]
  },
  {
   "cell_type": "code",
   "execution_count": 26,
   "id": "7a0d8d11-e541-4a7e-bdc8-eb5fddeab380",
   "metadata": {},
   "outputs": [
    {
     "data": {
      "text/plain": [
       "TransactionID\n",
       "258781    19999.99\n",
       "818886    19999.96\n",
       "914731    19999.92\n",
       "982417    19999.92\n",
       "609348    19999.91\n",
       "184247    19999.90\n",
       "597609    19999.89\n",
       "330748    19999.83\n",
       "393513    19999.83\n",
       "765005    19999.82\n",
       "940303    19999.82\n",
       "137510    19999.81\n",
       "132266    19999.76\n",
       "192941    19999.73\n",
       "597209    19999.71\n",
       "914288    19999.71\n",
       "257769    19999.70\n",
       "574808    19999.67\n",
       "181041    19999.65\n",
       "914770    19999.65\n",
       "987555    19999.64\n",
       "259314    19999.59\n",
       "876799    19999.58\n",
       "693896    19999.56\n",
       "600712    19999.55\n",
       "465428    19999.52\n",
       "285863    19999.52\n",
       "462461    19999.51\n",
       "541249    19999.50\n",
       "623530    19999.48\n",
       "Name: Amount, dtype: float64"
      ]
     },
     "execution_count": 26,
     "metadata": {},
     "output_type": "execute_result"
    }
   ],
   "source": [
    "df.groupby(\"TransactionID\")[\"Amount\"].sum().sort_values(ascending = False ).head(30)"
   ]
  },
  {
   "cell_type": "markdown",
   "id": "8db3d148-8c07-4c95-838d-796a3a98ab2f",
   "metadata": {},
   "source": [
    "Q. which city has highest amount of transactions"
   ]
  },
  {
   "cell_type": "code",
   "execution_count": 27,
   "id": "330f1f9f-ef1f-4ab8-bb4b-820993357716",
   "metadata": {},
   "outputs": [
    {
     "data": {
      "text/plain": [
       "Location\n",
       "Los Angeles      1.007472e+09\n",
       "San Francisco    1.003159e+09\n",
       "Miami            1.002906e+09\n",
       "New York         1.001464e+09\n",
       "Dallas           9.994833e+08\n",
       "Name: Amount, dtype: float64"
      ]
     },
     "execution_count": 27,
     "metadata": {},
     "output_type": "execute_result"
    }
   ],
   "source": [
    "df.groupby(\"Location\")[\"Amount\"].sum().sort_values(ascending = False ).head()"
   ]
  },
  {
   "cell_type": "code",
   "execution_count": 28,
   "id": "21c08d79-f124-42c5-8af2-cb0e954ae6d3",
   "metadata": {},
   "outputs": [
    {
     "data": {
      "text/plain": [
       "Location\n",
       "Los Angeles      100748\n",
       "Miami            100334\n",
       "San Francisco    100272\n",
       "Chicago          100020\n",
       "New York          99983\n",
       "Name: count, dtype: int64"
      ]
     },
     "execution_count": 28,
     "metadata": {},
     "output_type": "execute_result"
    }
   ],
   "source": [
    "df[\"Location\"].value_counts().head(5)"
   ]
  },
  {
   "cell_type": "code",
   "execution_count": 29,
   "id": "29843931-bd6c-4dd6-b881-700427040696",
   "metadata": {},
   "outputs": [
    {
     "data": {
      "text/plain": [
       "Amount\n",
       "19405.63    7\n",
       "7823.82     7\n",
       "15013.71    7\n",
       "11094.10    6\n",
       "7909.45     6\n",
       "Name: count, dtype: int64"
      ]
     },
     "execution_count": 29,
     "metadata": {},
     "output_type": "execute_result"
    }
   ],
   "source": [
    "df[\"Amount\"].value_counts().head(5)"
   ]
  },
  {
   "cell_type": "code",
   "execution_count": 30,
   "id": "fcf62b70-fe02-4cfe-985f-0859b8a65be9",
   "metadata": {},
   "outputs": [
    {
     "data": {
      "text/plain": [
       "CustomerID\n",
       "4444    313\n",
       "2013    305\n",
       "1386    304\n",
       "1213    301\n",
       "2753    300\n",
       "Name: count, dtype: int64"
      ]
     },
     "execution_count": 30,
     "metadata": {},
     "output_type": "execute_result"
    }
   ],
   "source": [
    "df[\"CustomerID\"].value_counts().head(5)"
   ]
  },
  {
   "cell_type": "markdown",
   "id": "cd20ee2c-dee8-48a6-98e2-880518a26b28",
   "metadata": {},
   "source": [
    "\"\"\"The code df[\"Location\"].value_counts().head(5) is used to find the top 5 most frequent locations in the \"Location\" column of your DataFrame df. Let's break it down:\n",
    "Line-by-line explanation:\n",
    "df[\"Location\"]: This accesses the \"Location\" column in your DataFrame df. The \"Location\" column likely contains information about where the transaction took place, or the location of customers, etc.\n",
    "\n",
    "value_counts(): This function counts the number of occurrences of each unique value in the \"Location\" column. It returns a Series where the index is the unique locations, and the values are the count of how many times each location appears in the column. This allows you to see which locations are the most common.\n",
    "\n",
    "head(5): After counting the occurrences of each location, this function selects the first 5 rows. Since the value_counts() function sorts the results by frequency (from highest to lowest), the first 5 will be the top 5 most frequent locations.\"\"\""
   ]
  },
  {
   "cell_type": "markdown",
   "id": "0b3890b5-94f2-4a51-957a-32c45750ebb4",
   "metadata": {},
   "source": [
    "### 9. fraud detection analysis "
   ]
  },
  {
   "cell_type": "markdown",
   "id": "245969fe-93f3-4b0f-91d7-1407f1c94e94",
   "metadata": {},
   "source": [
    "Q12. how many fraudlent transaction are there ?"
   ]
  },
  {
   "cell_type": "code",
   "execution_count": 31,
   "id": "eab1f982-1f1e-461a-97d4-eaa4d867d9a3",
   "metadata": {},
   "outputs": [
    {
     "data": {
      "text/plain": [
       "isFraud\n",
       "0    994935\n",
       "1      5065\n",
       "Name: count, dtype: int64"
      ]
     },
     "execution_count": 31,
     "metadata": {},
     "output_type": "execute_result"
    }
   ],
   "source": [
    "df[\"isFraud\"].value_counts()\n",
    "# the total fraudlent transactions are 5065"
   ]
  },
  {
   "cell_type": "markdown",
   "id": "be9f18d0-cd6c-4276-91a7-83588ba8d04a",
   "metadata": {},
   "source": [
    "\"\"\"df[\"isFraud\"]:\n",
    "\n",
    "df[\"isFraud\"]: This accesses the \"isFraud\" column in your DataFrame df. The \"isFraud\" column likely contains information indicating whether a transaction is fraudulent or not, where the values might be something like 1 for fraudulent transactions and 0 for non-fraudulent transactions.\n",
    "value_counts():\n",
    "\n",
    "value_counts(): This function counts how many times each unique value appears in the \"isFraud\" column. It will return a Series where the index is the unique values in \"isFraud\" (likely 0 and 1), and the values represent the count of occurrences for each value. This will help you understand the distribution of fraud and non-fraudulent transactions in the dataset.\"\"\""
   ]
  },
  {
   "cell_type": "markdown",
   "id": "c55d3f7d-04f5-478f-9082-aeca1cca5cc3",
   "metadata": {},
   "source": [
    "Q13. what is the total fraud amount?"
   ]
  },
  {
   "cell_type": "code",
   "execution_count": 32,
   "id": "d015348f-2840-49d9-bbdb-9757029efe10",
   "metadata": {
    "scrolled": true
   },
   "outputs": [
    {
     "data": {
      "text/plain": [
       "51577506.41"
      ]
     },
     "execution_count": 32,
     "metadata": {},
     "output_type": "execute_result"
    }
   ],
   "source": [
    "df[df[\"isFraud\"]== 1][\"Amount\"].sum()"
   ]
  },
  {
   "cell_type": "markdown",
   "id": "89d4e3c3-561e-4a83-83ce-85577464d04c",
   "metadata": {},
   "source": [
    "\"\"\"The code df[df[\"isFraud\"] == 1][\"Amount\"].sum() is used to calculate the total transaction amount for fraudulent transactions in the \"isFraud\" column of your DataFrame df. Let's break down each part of this code:\n",
    "\n",
    "Line-by-line explanation:\n",
    "df[df[\"isFraud\"] == 1]: Single equals (=): This is used for assignment. It assigns a value to a variable, like x = 5.\n",
    "\n",
    "Double equals (==): This is used for comparison. It checks if two values are equal. In this case, it's checking whether each value in the isFraud column is equal to 1.\n",
    "\n",
    "df[\"isFraud\"] == 1: This creates a boolean condition that checks whether the value in the \"isFraud\" column is 1 (which we assume represents fraudulent transactions).\n",
    "df[...]: This filters the DataFrame df to include only the rows where the condition df[\"isFraud\"] == 1 is True. In other words, it selects only the rows where the transaction is fraudulent.\"\"\""
   ]
  },
  {
   "cell_type": "markdown",
   "id": "065ea455-d657-4492-bbb7-39868588c14b",
   "metadata": {},
   "source": [
    "Q.14 what is the fraud rate per transaction type ?"
   ]
  },
  {
   "cell_type": "code",
   "execution_count": 33,
   "id": "b96f8ed2-5912-4a5c-96f6-657eef54be1c",
   "metadata": {},
   "outputs": [
    {
     "data": {
      "text/plain": [
       "TransactionType\n",
       "Credit        0.482485\n",
       "Debit         0.495892\n",
       "Deposit       0.514408\n",
       "Transfer      0.523952\n",
       "Withdrawal    0.515763\n",
       "Name: isFraud, dtype: float64"
      ]
     },
     "execution_count": 33,
     "metadata": {},
     "output_type": "execute_result"
    }
   ],
   "source": [
    "df.groupby(\"TransactionType\")[\"isFraud\"].mean()*100"
   ]
  },
  {
   "cell_type": "code",
   "execution_count": 34,
   "id": "08f722bd-58ad-413b-a411-e32ad0aaf007",
   "metadata": {},
   "outputs": [
    {
     "data": {
      "text/plain": [
       "Location\n",
       "Boston           0.520646\n",
       "Chicago          0.458908\n",
       "Dallas           0.508295\n",
       "Houston          0.509292\n",
       "Las Vegas        0.524174\n",
       "Los Angeles      0.478421\n",
       "Miami            0.524249\n",
       "New York         0.493084\n",
       "San Francisco    0.514600\n",
       "Seattle          0.533674\n",
       "Name: isFraud, dtype: float64"
      ]
     },
     "execution_count": 34,
     "metadata": {},
     "output_type": "execute_result"
    }
   ],
   "source": [
    "df.groupby(\"Location\")[\"isFraud\"].mean()*100"
   ]
  },
  {
   "cell_type": "markdown",
   "id": "8ea24243-840e-410e-98cd-67307e63e259",
   "metadata": {},
   "source": [
    "Q15. do fraudlent transactions have higher amounts?"
   ]
  },
  {
   "cell_type": "code",
   "execution_count": 35,
   "id": "5e71a69c-e5ca-403b-ad6d-cd20f430bdc4",
   "metadata": {},
   "outputs": [
    {
     "data": {
      "text/plain": [
       "<Axes: xlabel='isFraud', ylabel='Amount'>"
      ]
     },
     "execution_count": 35,
     "metadata": {},
     "output_type": "execute_result"
    },
    {
     "data": {
      "image/png": "[encoded data removed]",
      "text/plain": [
       "<Figure size 640x480 with 1 Axes>"
      ]
     },
     "metadata": {},
     "output_type": "display_data"
    }
   ],
   "source": [
    "sns.boxplot(data = df , x=\"isFraud\", y= \"Amount\")"
   ]
  },
  {
   "cell_type": "code",
   "execution_count": 36,
   "id": "06ea6122-089c-4853-b0f3-1eb9efc13fa9",
   "metadata": {},
   "outputs": [
    {
     "data": {
      "text/plain": [
       "<Axes: xlabel='Amount', ylabel='Location'>"
      ]
     },
     "execution_count": 36,
     "metadata": {},
     "output_type": "execute_result"
    },
    {
     "data": {
      "image/png": "[encoded data removed]",
      "text/plain": [
       "<Figure size 640x480 with 1 Axes>"
      ]
     },
     "metadata": {},
     "output_type": "display_data"
    }
   ],
   "source": [
    "sns.boxplot(data = df , x = \"Amount\",y = \"Location\")"
   ]
  },
  {
   "cell_type": "markdown",
   "id": "e3acc157-d66d-4fce-81dd-daffc9396d5a",
   "metadata": {},
   "source": [
    "\"\"\" The code sns.boxplot(data=df, x=\"isFraud\", y=\"Amount\") creates a boxplot using Seaborn to visualize the distribution of transaction amounts for fraudulent and non-fraudulent transactions. Let's break it down:\n",
    "\n",
    "Line-by-line explanation:\n",
    "sns.boxplot(...):\n",
    "\n",
    "sns.boxplot(...): This is a function from the Seaborn library that creates a boxplot, which is a useful way to display the distribution of a numerical variable and identify outliers. A boxplot shows the median, quartiles, and possible outliers of the data, making it easy to compare distributions between categories.\n",
    "data=df:\n",
    "\n",
    "data=df: This specifies the DataFrame df that contains the data. The data argument tells Seaborn where to look for the data.\n",
    "x=\"isFraud\":\n",
    "\n",
    "x=\"isFraud\": This sets the variable on the x-axis to \"isFraud.\" The \"isFraud\" column typically contains binary values, such as 1 for fraudulent transactions and 0 for non-fraudulent transactions. The boxplot will create two categories on the x-axis: one for fraudulent transactions and one for non-fraudulent transactions.\n",
    "y=\"Amount\":\n",
    "\n",
    "y=\"Amount\": This sets the variable on the y-axis to \"Amount,\" which represents the transaction amount. This shows how the transaction amounts are distributed for each category of fraud (fraudulent and non-fraudulent). \"\"\""
   ]
  },
  {
   "cell_type": "markdown",
   "id": "021146e7-46c8-4ec1-b55f-2ca158c83b66",
   "metadata": {},
   "source": [
    "#### 10. Time- based analysis\n",
    "Q16. what are the peak transactions hours"
   ]
  },
  {
   "cell_type": "code",
   "execution_count": 37,
   "id": "19aaf876-40e8-4f24-a6ea-7defe263b41b",
   "metadata": {},
   "outputs": [
    {
     "data": {
      "text/plain": [
       "<Axes: xlabel='Hour', ylabel='count'>"
      ]
     },
     "execution_count": 37,
     "metadata": {},
     "output_type": "execute_result"
    },
    {
     "data": {
      "image/png": "[encoded data removed]",
      "text/plain": [
       "<Figure size 640x480 with 1 Axes>"
      ]
     },
     "metadata": {},
     "output_type": "display_data"
    }
   ],
   "source": [
    "df[\"Hour\"] = df[\"TransactionDate\"].dt.hour\n",
    "sns.countplot(x=\"Hour\",data = df)"
   ]
  },
  {
   "cell_type": "markdown",
   "id": "a810ac15-bd20-45fb-85e6-13b7050706ac",
   "metadata": {},
   "source": [
    "the peak transaction time is 17hrs .. 5pm "
   ]
  },
  {
   "cell_type": "markdown",
   "id": "ecda10b7-f7c5-41d0-aace-9d5205d5f1f5",
   "metadata": {},
   "source": [
    "## task "
   ]
  },
  {
   "cell_type": "code",
   "execution_count": 38,
   "id": "9eb8a570-b676-4bfd-bb8b-7a28f7ed9b59",
   "metadata": {},
   "outputs": [
    {
     "data": {
      "text/plain": [
       "<Axes: xlabel='year', ylabel='count'>"
      ]
     },
     "execution_count": 38,
     "metadata": {},
     "output_type": "execute_result"
    },
    {
     "data": {
      "image/png": "[encoded data removed]",
      "text/plain": [
       "<Figure size 640x480 with 1 Axes>"
      ]
     },
     "metadata": {},
     "output_type": "display_data"
    }
   ],
   "source": [
    "df[\"year\"]= df[\"TransactionDate\"].dt.year\n",
    "sns.countplot(x=\"year\",data = df)"
   ]
  },
  {
   "cell_type": "code",
   "execution_count": 39,
   "id": "e4dc7555-3837-447b-b439-60a473592526",
   "metadata": {},
   "outputs": [
    {
     "name": "stdout",
     "output_type": "stream",
     "text": [
      "<class 'pandas.core.frame.DataFrame'>\n",
      "RangeIndex: 1000000 entries, 0 to 999999\n",
      "Data columns (total 9 columns):\n",
      " #   Column           Non-Null Count    Dtype         \n",
      "---  ------           --------------    -----         \n",
      " 0   TransactionID    1000000 non-null  int64         \n",
      " 1   CustomerID       1000000 non-null  int64         \n",
      " 2   TransactionDate  1000000 non-null  datetime64[ns]\n",
      " 3   TransactionType  1000000 non-null  object        \n",
      " 4   Amount           1000000 non-null  float64       \n",
      " 5   Location         1000000 non-null  object        \n",
      " 6   isFraud          1000000 non-null  int64         \n",
      " 7   Hour             1000000 non-null  int32         \n",
      " 8   year             1000000 non-null  int32         \n",
      "dtypes: datetime64[ns](1), float64(1), int32(2), int64(3), object(2)\n",
      "memory usage: 61.0+ MB\n"
     ]
    }
   ],
   "source": [
    "df.info()"
   ]
  },
  {
   "cell_type": "code",
   "execution_count": 40,
   "id": "1df6ab67-55d9-48c5-9dd7-618b202e9135",
   "metadata": {},
   "outputs": [
    {
     "data": {
      "text/plain": [
       "<Axes: xlabel='TransactionDate'>"
      ]
     },
     "execution_count": 40,
     "metadata": {},
     "output_type": "execute_result"
    },
    {
     "data": {
      "image/png": "[encoded data removed]",
      "text/plain": [
       "<Figure size 640x480 with 1 Axes>"
      ]
     },
     "metadata": {},
     "output_type": "display_data"
    }
   ],
   "source": [
    "df.groupby(df[\"TransactionDate\"].dt.month)[\"isFraud\"].sum().plot()"
   ]
  },
  {
   "cell_type": "markdown",
   "id": "34e94024-fb2f-4a5c-b0f0-d4a19182ca99",
   "metadata": {},
   "source": [
    "fraud spikes in september "
   ]
  },
  {
   "cell_type": "markdown",
   "id": "be09d631-6589-4cc7-839a-6ef7a1b05c42",
   "metadata": {},
   "source": [
    "## task "
   ]
  },
  {
   "cell_type": "code",
   "execution_count": 41,
   "id": "86f71f95-b3b7-42f5-a7e8-65334b28dd57",
   "metadata": {},
   "outputs": [
    {
     "data": {
      "text/plain": [
       "<Axes: xlabel='TransactionDate'>"
      ]
     },
     "execution_count": 41,
     "metadata": {},
     "output_type": "execute_result"
    },
    {
     "data": {
      "image/png": "[encoded data removed]",
      "text/plain": [
       "<Figure size 640x480 with 1 Axes>"
      ]
     },
     "metadata": {},
     "output_type": "display_data"
    }
   ],
   "source": [
    "df.groupby(df[\"TransactionDate\"].dt.year)[\"isFraud\"].sum().plot()"
   ]
  },
  {
   "cell_type": "markdown",
   "id": "df0e15a0-f503-4b74-8754-cbfa8bd464a2",
   "metadata": {},
   "source": [
    "\"\"\"1. df[\"TransactionDate\"].dt.month:\n",
    "df[\"TransactionDate\"]: This refers to the \"TransactionDate\" column in your DataFrame, which likely contains datetime values.\n",
    ".dt.month: This extracts the month from the \"TransactionDate\" column. It returns an integer representing the month of each transaction, ranging from 1 (January) to 12 (December).\n",
    "2. df.groupby(df[\"TransactionDate\"].dt.month):\n",
    "groupby(df[\"TransactionDate\"].dt.month): This groups the data by the month of the transaction. All transactions that happened in the same month will be grouped together. So, you’ll have 12 groups (one for each month), each representing the transactions for that specific month.\n",
    "3. [\"isFraud\"]:\n",
    "[\"isFraud\"]: After grouping the data by month, we focus on the \"isFraud\" column, which likely contains 1 for fraudulent transactions and 0 for non-fraudulent ones.\n",
    "4. .sum():\n",
    ".sum(): This sums the values of the \"isFraud\" column for each month. Since 1 represents fraudulent transactions, the sum gives the total number of fraudulent transactions for each month. For example, if a month has 3 fraudulent transactions, the sum for that month will be 3.\n",
    "5. .plot():\n",
    ".plot(): This generates a plot (typically a line plot) to visualize the data. In this case, it will create a line plot showing the total number of fraudulent transactions for each month. The x-axis represents the months (from 1 to 12), and the y-axis represents the number of fraudulent transactions for each month.\"\"\""
   ]
  },
  {
   "cell_type": "markdown",
   "id": "ab0b462a-00c0-45f6-b875-e18421caccff",
   "metadata": {},
   "source": [
    "  Q18. what is the distribution of transaction by day of the week "
   ]
  },
  {
   "cell_type": "code",
   "execution_count": 42,
   "id": "b0a6f103-a96b-49e4-ad7a-710e13077006",
   "metadata": {},
   "outputs": [
    {
     "data": {
      "image/png": "[encoded data removed]",
      "text/plain": [
       "<Figure size 640x480 with 1 Axes>"
      ]
     },
     "metadata": {},
     "output_type": "display_data"
    }
   ],
   "source": [
    "df[\"DayOfWeek\"]= df[\"TransactionDate\"].dt.day_name()\n",
    "sns.countplot(data = df, x=\"DayOfWeek\",order = [\"Monday\",\"Tuesday\",\"Wednesday\",\"Thursday\",\"Friday\",\"Saturday\",\"Sunday\"])\n",
    "plt.xticks(rotation = 45) # used to rotate x axis label\n",
    "plt.yticks(rotation = 45)#task\n",
    "plt.title(\"Transactions by Day of Week \")\n",
    "plt.show()"
   ]
  },
  {
   "cell_type": "markdown",
   "id": "5a7bdcad-3685-464a-9202-9668feecd19b",
   "metadata": {},
   "source": [
    "Q19. what is the average transaction amount by day of week "
   ]
  },
  {
   "cell_type": "code",
   "execution_count": 51,
   "id": "e23d1117-56d7-402c-98d1-2c2de299a742",
   "metadata": {},
   "outputs": [
    {
     "data": {
      "text/plain": [
       "DayOfWeek\n",
       "Tuesday      10009.254183\n",
       "Wednesday    10006.736955\n",
       "Sunday       10006.171637\n",
       "Thursday      9993.955690\n",
       "Monday        9992.994624\n",
       "Friday        9991.231210\n",
       "Saturday      9983.204762\n",
       "Name: Amount, dtype: float64"
      ]
     },
     "execution_count": 51,
     "metadata": {},
     "output_type": "execute_result"
    }
   ],
   "source": [
    "df.groupby(\"DayOfWeek\") [\"Amount\"].mean().sort_values (ascending = False)"
   ]
  },
  {
   "cell_type": "markdown",
   "id": "843e9551-4b25-4f1f-9ed7-ec63b12697f5",
   "metadata": {},
   "source": [
    "answer= tuesday transactions have the highest average (10009.254183). Saturday have the lowest average (9983.204762)\n",
    "# this helps plan bank server loads and detect unsual spending"
   ]
  },
  {
   "cell_type": "markdown",
   "id": "828f9238-3ebd-48b5-8012-ce10d376f692",
   "metadata": {},
   "source": [
    "Q20. how do fraudlent transaction differ from non-fraudlent ones in terms of locations?"
   ]
  },
  {
   "cell_type": "code",
   "execution_count": 56,
   "id": "e564f512-ade1-4c4b-ae1d-75f08a165c87",
   "metadata": {},
   "outputs": [
    {
     "data": {
      "text/html": [
       "<div>\n",
       "<style scoped>\n",
       "    .dataframe tbody tr th:only-of-type {\n",
       "        vertical-align: middle;\n",
       "    }\n",
       "\n",
       "    .dataframe tbody tr th {\n",
       "        vertical-align: top;\n",
       "    }\n",
       "\n",
       "    .dataframe thead th {\n",
       "        text-align: right;\n",
       "    }\n",
       "</style>\n",
       "<table border=\"1\" class=\"dataframe\">\n",
       "  <thead>\n",
       "    <tr style=\"text-align: right;\">\n",
       "      <th>isFraud</th>\n",
       "      <th>0</th>\n",
       "      <th>1</th>\n",
       "    </tr>\n",
       "    <tr>\n",
       "      <th>Location</th>\n",
       "      <th></th>\n",
       "      <th></th>\n",
       "    </tr>\n",
       "  </thead>\n",
       "  <tbody>\n",
       "    <tr>\n",
       "      <th>Boston</th>\n",
       "      <td>99356</td>\n",
       "      <td>520</td>\n",
       "    </tr>\n",
       "    <tr>\n",
       "      <th>Chicago</th>\n",
       "      <td>99561</td>\n",
       "      <td>459</td>\n",
       "    </tr>\n",
       "    <tr>\n",
       "      <th>Dallas</th>\n",
       "      <td>99434</td>\n",
       "      <td>508</td>\n",
       "    </tr>\n",
       "    <tr>\n",
       "      <th>Houston</th>\n",
       "      <td>99043</td>\n",
       "      <td>507</td>\n",
       "    </tr>\n",
       "    <tr>\n",
       "      <th>Las Vegas</th>\n",
       "      <td>99253</td>\n",
       "      <td>523</td>\n",
       "    </tr>\n",
       "    <tr>\n",
       "      <th>Los Angeles</th>\n",
       "      <td>100266</td>\n",
       "      <td>482</td>\n",
       "    </tr>\n",
       "    <tr>\n",
       "      <th>Miami</th>\n",
       "      <td>99808</td>\n",
       "      <td>526</td>\n",
       "    </tr>\n",
       "    <tr>\n",
       "      <th>New York</th>\n",
       "      <td>99490</td>\n",
       "      <td>493</td>\n",
       "    </tr>\n",
       "    <tr>\n",
       "      <th>San Francisco</th>\n",
       "      <td>99756</td>\n",
       "      <td>516</td>\n",
       "    </tr>\n",
       "    <tr>\n",
       "      <th>Seattle</th>\n",
       "      <td>98968</td>\n",
       "      <td>531</td>\n",
       "    </tr>\n",
       "  </tbody>\n",
       "</table>\n",
       "</div>"
      ],
      "text/plain": [
       "isFraud             0    1\n",
       "Location                  \n",
       "Boston          99356  520\n",
       "Chicago         99561  459\n",
       "Dallas          99434  508\n",
       "Houston         99043  507\n",
       "Las Vegas       99253  523\n",
       "Los Angeles    100266  482\n",
       "Miami           99808  526\n",
       "New York        99490  493\n",
       "San Francisco   99756  516\n",
       "Seattle         98968  531"
      ]
     },
     "execution_count": 56,
     "metadata": {},
     "output_type": "execute_result"
    }
   ],
   "source": [
    "df.groupby([\"Location\",\"isFraud\"])[\"TransactionID\"].count().unstack().fillna(0)"
   ]
  },
  {
   "cell_type": "code",
   "execution_count": null,
   "id": "ef07b4de-4e49-4c9f-8198-8a6554b03762",
   "metadata": {},
   "outputs": [],
   "source": []
  }
 ],
 "metadata": {
  "kernelspec": {
   "display_name": "Python 3 (ipykernel)",
   "language": "python",
   "name": "python3"
  },
  "language_info": {
   "codemirror_mode": {
    "name": "ipython",
    "version": 3
   },
   "file_extension": ".py",
   "mimetype": "text/x-python",
   "name": "python",
   "nbconvert_exporter": "python",
   "pygments_lexer": "ipython3",
   "version": "3.11.7"
  }
 },
 "nbformat": 4,
 "nbformat_minor": 5
}
